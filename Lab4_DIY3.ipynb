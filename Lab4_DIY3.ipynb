{
 "metadata": {
  "name": "",
  "signature": "sha256:a7dc6397a66be879891cfea75990c5cfb4a5df297416da57bf9d5aa2a9dd54a2"
 },
 "nbformat": 3,
 "nbformat_minor": 0,
 "worksheets": [
  {
   "cells": [
    {
     "cell_type": "code",
     "collapsed": false,
     "input": [
      "%pylab inline\n",
      "import pylab\n",
      "from sklearn.datasets import fetch_mldata\n",
      "DATA_PATH = '~/data'\n",
      "mnist = fetch_mldata('MNIST original', data_home=DATA_PATH)"
     ],
     "language": "python",
     "metadata": {},
     "outputs": [
      {
       "output_type": "stream",
       "stream": "stdout",
       "text": [
        "Populating the interactive namespace from numpy and matplotlib\n"
       ]
      }
     ],
     "prompt_number": 1
    },
    {
     "cell_type": "code",
     "collapsed": false,
     "input": [
      "mnist.data.shape\n"
     ],
     "language": "python",
     "metadata": {},
     "outputs": [
      {
       "metadata": {},
       "output_type": "pyout",
       "prompt_number": 2,
       "text": [
        "(70000, 784)"
       ]
      }
     ],
     "prompt_number": 2
    },
    {
     "cell_type": "code",
     "collapsed": false,
     "input": [
      "train = mnist.data[:60000]\n",
      "train_labels = mnist.target[:60000]\n",
      "\n",
      "test = mnist.data[60000:]\n",
      "test_labels = mnist.target[60000:]\n",
      "\n",
      "# For traning\n",
      "train_sample = train[::100]\n",
      "train_sample_labels = train_labels[::100]\n",
      "# for testing\n",
      "test_sample = test[::10]\n",
      "test_sample_labels = test_labels[::10]"
     ],
     "language": "python",
     "metadata": {},
     "outputs": [],
     "prompt_number": 3
    },
    {
     "cell_type": "code",
     "collapsed": false,
     "input": [
      "%%time\n",
      "from sklearn.naive_bayes import GaussianNB\n",
      "model = GaussianNB().fit(train_sample, train_sample_labels)"
     ],
     "language": "python",
     "metadata": {},
     "outputs": [
      {
       "output_type": "stream",
       "stream": "stdout",
       "text": [
        "CPU times: user 12.3 ms, sys: 1.09 ms, total: 13.4 ms\n",
        "Wall time: 78.5 ms\n"
       ]
      }
     ],
     "prompt_number": 4
    },
    {
     "cell_type": "code",
     "collapsed": false,
     "input": [
      "preds = model.predict(test_sample)\n",
      "errors = [i for i in xrange(0, len(test_sample)) if preds[i] != test_sample_labels[i]]\n",
      "err_rate = float(len(errors))/len(preds)\n",
      "print err_rate\n",
      "#part1"
     ],
     "language": "python",
     "metadata": {},
     "outputs": [
      {
       "output_type": "stream",
       "stream": "stdout",
       "text": [
        "0.398\n"
       ]
      }
     ],
     "prompt_number": 5
    },
    {
     "cell_type": "code",
     "collapsed": false,
     "input": [
      "#Naive Bayes Confusion Matrix\n",
      "from sklearn.metrics import confusion_matrix\n",
      "confusion_matrix(test_sample_labels,preds)\n",
      "#part2"
     ],
     "language": "python",
     "metadata": {},
     "outputs": [
      {
       "metadata": {},
       "output_type": "pyout",
       "prompt_number": 6,
       "text": [
        "array([[ 82,   0,   2,   4,   0,   2,   1,   0,   5,   2],\n",
        "       [  0, 105,   0,   1,   0,   0,   3,   0,   5,   0],\n",
        "       [  7,   1,  50,  17,   2,   2,   3,   1,  17,   3],\n",
        "       [ 12,   0,   7,  55,   5,   2,   7,   2,   2,   9],\n",
        "       [  4,   0,   5,   1,  55,   1,   4,   5,   1,  22],\n",
        "       [  9,   0,   2,  14,  12,  29,   3,   0,  15,   6],\n",
        "       [  2,   0,  10,   1,   4,   0,  76,   0,   2,   0],\n",
        "       [  0,   0,   0,   1,   8,   3,   0,  25,   3,  63],\n",
        "       [  2,   1,   1,   4,  18,   6,   3,   1,  41,  21],\n",
        "       [  0,   1,   1,   0,   3,   2,   0,   7,   2,  84]])"
       ]
      }
     ],
     "prompt_number": 6
    },
    {
     "cell_type": "code",
     "collapsed": false,
     "input": [
      "#part3\n",
      "#we can see from the confusion matrix that 7 and 9 are most confused pair  with 63 + 7 = 70 wrong prediction in Naive Bayes\n"
     ],
     "language": "python",
     "metadata": {},
     "outputs": [],
     "prompt_number": 7
    },
    {
     "cell_type": "code",
     "collapsed": false,
     "input": [
      "train = mnist.data[:60000]\n",
      "train_labels = mnist.target[:60000]\n",
      "\n",
      "test = mnist.data[60000:]\n",
      "test_labels = mnist.target[60000:]\n",
      "\n",
      "# For traning\n",
      "train_sample = train[::100]\n",
      "train_sample_labels = train_labels[::100]\n",
      "# for testing\n",
      "test_sample = test[::10]\n",
      "test_sample_labels = test_labels[::10]"
     ],
     "language": "python",
     "metadata": {},
     "outputs": [],
     "prompt_number": 8
    },
    {
     "cell_type": "code",
     "collapsed": false,
     "input": [
      "from sklearn.svm import LinearSVC"
     ],
     "language": "python",
     "metadata": {},
     "outputs": [],
     "prompt_number": 9
    },
    {
     "cell_type": "code",
     "collapsed": false,
     "input": [
      "svm = LinearSVC(C=1.0)"
     ],
     "language": "python",
     "metadata": {},
     "outputs": [],
     "prompt_number": 10
    },
    {
     "cell_type": "code",
     "collapsed": false,
     "input": [
      "model = svm.fit(train_sample,train_sample_labels)"
     ],
     "language": "python",
     "metadata": {},
     "outputs": [],
     "prompt_number": 11
    },
    {
     "cell_type": "code",
     "collapsed": false,
     "input": [
      "preds = model.predict(test_sample)\n",
      "errors = [i for i in xrange(0, len(test_sample)) if preds[i] != test_sample_labels[i]]\n",
      "err_rate = float(len(errors))/len(preds)\n",
      "print err_rate\n",
      "#part1"
     ],
     "language": "python",
     "metadata": {},
     "outputs": [
      {
       "output_type": "stream",
       "stream": "stdout",
       "text": [
        "0.187\n"
       ]
      }
     ],
     "prompt_number": 12
    },
    {
     "cell_type": "code",
     "collapsed": false,
     "input": [
      "from sklearn.metrics import confusion_matrix\n",
      "confusion_matrix(test_sample_labels,preds)\n",
      "#part2"
     ],
     "language": "python",
     "metadata": {},
     "outputs": [
      {
       "metadata": {},
       "output_type": "pyout",
       "prompt_number": 13,
       "text": [
        "array([[ 93,   0,   0,   1,   0,   0,   2,   1,   1,   0],\n",
        "       [  0, 110,   0,   1,   0,   0,   1,   0,   2,   0],\n",
        "       [  2,   3,  83,   5,   1,   0,   1,   1,   5,   2],\n",
        "       [  1,   0,   7,  73,   1,   4,   1,   3,   6,   5],\n",
        "       [  0,   0,   0,   0,  81,   1,   4,   0,   4,   8],\n",
        "       [  3,   0,   0,   2,   1,  61,   5,   3,  12,   3],\n",
        "       [  1,   1,   0,   0,   3,   1,  87,   0,   2,   0],\n",
        "       [  0,   1,   3,   1,   2,   0,   0,  89,   2,   5],\n",
        "       [  1,   2,   1,   4,   3,   7,   4,   3,  68,   5],\n",
        "       [  3,   1,   2,   3,   9,   1,   1,   6,   6,  68]])"
       ]
      }
     ],
     "prompt_number": 13
    },
    {
     "cell_type": "code",
     "collapsed": false,
     "input": [
      "#part3\n",
      "#From the confusion matrix we can intrepret that the most confused pair 5 and 8 with 12 + 7 =19 wrong predictions."
     ],
     "language": "python",
     "metadata": {},
     "outputs": [],
     "prompt_number": 14
    },
    {
     "cell_type": "code",
     "collapsed": false,
     "input": [
      "train = mnist.data[:60000]\n",
      "train_labels = mnist.target[:60000]\n",
      "\n",
      "test = mnist.data[60000:]\n",
      "test_labels = mnist.target[60000:]\n",
      "\n",
      "# For traning\n",
      "train_sample = train[::100]\n",
      "train_sample_labels = train_labels[::100]\n",
      "# for testing\n",
      "test_sample = test[::10]\n",
      "test_sample_labels = test_labels[::10]"
     ],
     "language": "python",
     "metadata": {},
     "outputs": [],
     "prompt_number": 15
    },
    {
     "cell_type": "code",
     "collapsed": false,
     "input": [
      "from sklearn.linear_model import LogisticRegression"
     ],
     "language": "python",
     "metadata": {},
     "outputs": [],
     "prompt_number": 16
    },
    {
     "cell_type": "code",
     "collapsed": false,
     "input": [
      "lr = LogisticRegression()"
     ],
     "language": "python",
     "metadata": {},
     "outputs": [],
     "prompt_number": 17
    },
    {
     "cell_type": "code",
     "collapsed": false,
     "input": [
      "model = lr.fit(train_sample,train_sample_labels)"
     ],
     "language": "python",
     "metadata": {},
     "outputs": [],
     "prompt_number": 18
    },
    {
     "cell_type": "code",
     "collapsed": false,
     "input": [
      "preds = model.predict(test_sample)\n",
      "errors = [i for i in xrange(0, len(test_sample)) if preds[i] != test_sample_labels[i]]\n",
      "err_rate = float(len(errors))/len(preds)\n",
      "print err_rate\n",
      "#part1"
     ],
     "language": "python",
     "metadata": {},
     "outputs": [
      {
       "output_type": "stream",
       "stream": "stdout",
       "text": [
        "0.178\n"
       ]
      }
     ],
     "prompt_number": 19
    },
    {
     "cell_type": "code",
     "collapsed": false,
     "input": [
      "from sklearn.metrics import confusion_matrix\n",
      "confusion_matrix(test_sample_labels,preds)\n",
      "#part2"
     ],
     "language": "python",
     "metadata": {},
     "outputs": [
      {
       "metadata": {},
       "output_type": "pyout",
       "prompt_number": 20,
       "text": [
        "array([[ 94,   0,   0,   0,   0,   0,   2,   1,   1,   0],\n",
        "       [  0, 111,   0,   1,   0,   0,   1,   0,   1,   0],\n",
        "       [  2,   3,  83,   5,   1,   0,   1,   1,   5,   2],\n",
        "       [  1,   0,   6,  74,   1,   3,   1,   4,   6,   5],\n",
        "       [  0,   0,   0,   0,  80,   0,   4,   1,   5,   8],\n",
        "       [  4,   0,   1,   1,   1,  65,   4,   2,   9,   3],\n",
        "       [  1,   1,   0,   0,   3,   1,  87,   0,   2,   0],\n",
        "       [  0,   1,   3,   1,   2,   0,   0,  89,   2,   5],\n",
        "       [  2,   2,   1,   3,   3,   5,   5,   3,  69,   5],\n",
        "       [  3,   1,   2,   3,   7,   1,   1,   5,   7,  70]])"
       ]
      }
     ],
     "prompt_number": 20
    },
    {
     "cell_type": "code",
     "collapsed": false,
     "input": [
      "#part3\n",
      "#in linear regression the most confused pair is 4 and 9 with 8 + 7 = 15 wrong guesses."
     ],
     "language": "python",
     "metadata": {},
     "outputs": []
    }
   ],
   "metadata": {}
  }
 ]
}